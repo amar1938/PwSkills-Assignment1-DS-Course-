{
 "cells": [
  {
   "cell_type": "code",
   "execution_count": 4,
   "id": "97ea5143-d390-45b1-a967-50d4131245bd",
   "metadata": {},
   "outputs": [
    {
     "name": "stdout",
     "output_type": "stream",
     "text": [
      "Hii Pwskills I am Amar\n",
      "[10, (5+8j), 'Amar', 15.6]\n",
      "16.8 (10, 20, 40, 50)\n"
     ]
    }
   ],
   "source": [
    "#Q1)-Creating variable containg (string,list,float,tuple)\n",
    "a = \"Hii Pwskills I am Amar\"\n",
    "b = [10,5+8j,\"Amar\",15.6]\n",
    "c = 16.8\n",
    "d = (10,20,40,50)\n",
    "print(a)\n",
    "print(b)\n",
    "print(c,d)"
   ]
  },
  {
   "cell_type": "code",
   "execution_count": 28,
   "id": "9fa25774-0395-49a9-b585-ef4a311aa3d7",
   "metadata": {},
   "outputs": [
    {
     "name": "stdout",
     "output_type": "stream",
     "text": [
      "<class 'str'> \n",
      " <class 'str'> \n",
      " <class 'list'> \n",
      " <class 'int'>\n"
     ]
    }
   ],
   "source": [
    "#Q2)-identify datatypes\n",
    "var1=''\n",
    "var2='[DS,ML,Python]'\n",
    "var3=['ds','ml','Python']\n",
    "var4=1\n",
    "print(type(var1),'\\n',type(var2),'\\n',type(var3),'\\n',type(var4))"
   ]
  },
  {
   "cell_type": "code",
   "execution_count": 38,
   "id": "2c82f0e7-eee3-4a95-885f-10fc4dc7a59e",
   "metadata": {},
   "outputs": [
    {
     "name": "stdout",
     "output_type": "stream",
     "text": [
      "Example of '/'- 2.0\n",
      "Example of '%'- 0\n",
      "Example of '//'- 5\n",
      "Example of '**'- 8\n"
     ]
    }
   ],
   "source": [
    "#Q3)-use of operators\n",
    " #i)- '/' - it is a divisible operator,used for dividing given variable,number etc\n",
    "print(\"Example of '/'-\",6/3)\n",
    " #ii)- '%' it is a modulus(mod) operator,used for finding reminder of a division\n",
    "print(\"Example of '%'-\",6%3)\n",
    " #iii)-'//' it is similar to '/' operator, it is used to find Quotient\n",
    "print(\"Example of '//'-\",10//2)\n",
    " #iv)-'**' it is a Power operator,used to find exponential power value of a given number\n",
    "print(\"Example of '**'-\",2**3)\n",
    "\n"
   ]
  },
  {
   "cell_type": "code",
   "execution_count": 43,
   "id": "d4a853b7-6ae8-41c6-934c-6de4d72d2d53",
   "metadata": {},
   "outputs": [
    {
     "name": "stdout",
     "output_type": "stream",
     "text": [
      "10 <class 'int'>\n",
      "20.5 <class 'float'>\n",
      "Amar <class 'str'>\n",
      "Pwskills <class 'str'>\n",
      "15 <class 'int'>\n",
      "(5+2j) <class 'complex'>\n",
      "5.5 <class 'float'>\n",
      "Hii <class 'str'>\n",
      "20 <class 'int'>\n",
      "21 <class 'int'>\n"
     ]
    }
   ],
   "source": [
    "#Q4)-Create a list of 10length\n",
    "a=[10,20.5,'Amar','Pwskills',15,5+2j,5.5,'Hii',20,21]\n",
    "for i in a:\n",
    "    print(i,type(i))"
   ]
  },
  {
   "cell_type": "code",
   "execution_count": 50,
   "id": "f81662f7-6f0d-40fb-9ec2-11f715b0751e",
   "metadata": {},
   "outputs": [
    {
     "name": "stdin",
     "output_type": "stream",
     "text": [
      "Enter number A: 10\n",
      "Enter number B: 5\n"
     ]
    },
    {
     "name": "stdout",
     "output_type": "stream",
     "text": [
      "Yes it is divisible\n",
      "it can be divide 2 times\n"
     ]
    }
   ],
   "source": [
    "#Q5)-while Loop division of A/B\n",
    "a= int(input(\"Enter number A:\"))\n",
    "b= int(input(\"Enter number B:\"))\n",
    "while a%b ==0:\n",
    "    print(\"Yes it is divisible\")\n",
    "    quotient = a//b\n",
    "    print(\"it can be divide\",quotient,\"times\")\n",
    "    break\n",
    "    \n",
    "\n",
    "else:\n",
    "    print(\"No the above numbers cannot be divided\")\n",
    "    "
   ]
  },
  {
   "cell_type": "code",
   "execution_count": 46,
   "id": "ef0ff1e7-bdad-40a4-8d55-0bab5a7454fc",
   "metadata": {},
   "outputs": [
    {
     "name": "stdout",
     "output_type": "stream",
     "text": [
      "1 not divisible by 3\n",
      "2 not divisible by 3\n",
      "3 is divisble by 3\n",
      "4 not divisible by 3\n",
      "5 not divisible by 3\n",
      "6 is divisble by 3\n",
      "7 not divisible by 3\n",
      "8 not divisible by 3\n",
      "9 is divisble by 3\n",
      "10 not divisible by 3\n",
      "11 not divisible by 3\n",
      "12 is divisble by 3\n",
      "13 not divisible by 3\n",
      "14 not divisible by 3\n",
      "15 is divisble by 3\n",
      "16 not divisible by 3\n",
      "17 not divisible by 3\n",
      "18 is divisble by 3\n",
      "19 not divisible by 3\n",
      "20 not divisible by 3\n",
      "21 is divisble by 3\n",
      "22 not divisible by 3\n",
      "23 not divisible by 3\n",
      "24 is divisble by 3\n",
      "25 not divisible by 3\n"
     ]
    }
   ],
   "source": [
    "#Q6)-list of 25 numbers, and check if divisible by 3\n",
    "l=[1,2,3,4,5,6,7,8,9,10,11,12,13,14,15,16,17,18,19,20,21,22,23,24,25]\n",
    "for i in l:\n",
    "    if i%3==0:\n",
    "        print(i,\"is divisble by 3\")\n",
    "    else:\n",
    "        print(i,\"not divisible by 3\")"
   ]
  },
  {
   "cell_type": "code",
   "execution_count": 51,
   "id": "576a6a65-a5ac-4a2c-9b56-e17a883837b4",
   "metadata": {},
   "outputs": [
    {
     "name": "stdout",
     "output_type": "stream",
     "text": [
      "Example of mutable\n",
      "[10, 'hi', 10.5]\n",
      "Example of Immutable\n",
      "(10, 20, 40)\n"
     ]
    }
   ],
   "source": [
    "#Q7)-Mutable and Immutable in python\n",
    "# Mutable objects in Python are those that can be changed after they are created, like lists or dictionaries\n",
    "#Immutable objects, on the other hand, cannot be changed after they are created, such as strings, integers, or tuples\n",
    "print(\"Example of mutable\")\n",
    "l=[10,'hi',10.5]\n",
    "print(l)\n",
    "print(\"Example of Immutable\")\n",
    "a=(10,20,40)\n",
    "print(a)"
   ]
  }
 ],
 "metadata": {
  "kernelspec": {
   "display_name": "Python 3 (ipykernel)",
   "language": "python",
   "name": "python3"
  },
  "language_info": {
   "codemirror_mode": {
    "name": "ipython",
    "version": 3
   },
   "file_extension": ".py",
   "mimetype": "text/x-python",
   "name": "python",
   "nbconvert_exporter": "python",
   "pygments_lexer": "ipython3",
   "version": "3.12.3"
  }
 },
 "nbformat": 4,
 "nbformat_minor": 5
}
